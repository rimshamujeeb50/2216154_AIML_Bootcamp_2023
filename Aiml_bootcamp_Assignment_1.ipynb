{
  "nbformat": 4,
  "nbformat_minor": 0,
  "metadata": {
    "colab": {
      "provenance": [],
      "authorship_tag": "ABX9TyNKaXkB6ZEDed7QL41GyKId",
      "include_colab_link": true
    },
    "kernelspec": {
      "name": "python3",
      "display_name": "Python 3"
    },
    "language_info": {
      "name": "python"
    }
  },
  "cells": [
    {
      "cell_type": "markdown",
      "metadata": {
        "id": "view-in-github",
        "colab_type": "text"
      },
      "source": [
        "<a href=\"https://colab.research.google.com/github/rimshamujeeb50/2216154_AIML_Bootcamp_2023/blob/main/Aiml_bootcamp_Assignment_1.ipynb\" target=\"_parent\"><img src=\"https://colab.research.google.com/assets/colab-badge.svg\" alt=\"Open In Colab\"/></a>"
      ]
    },
    {
      "cell_type": "code",
      "execution_count": 3,
      "metadata": {
        "id": "P-DopgqQ0b5y",
        "colab": {
          "base_uri": "https://localhost:8080/"
        },
        "outputId": "a2f9db70-09b7-464b-be89-1f9fb7560948"
      },
      "outputs": [
        {
          "output_type": "stream",
          "name": "stdout",
          "text": [
            "Hi Rimsha\n",
            "Hi rimsha\n",
            "8\n",
            "2\n",
            "False\n"
          ]
        }
      ],
      "source": [
        "\n",
        "\n",
        "\n",
        "#strings\n",
        "my_str=\"Hi Rimsha\"\n",
        "print(my_str.title())\n",
        "print(my_str.capitalize())\n",
        "print(my_str.find('a'))  \n",
        "print(my_str.index(\" \"))\n",
        "print(my_str.endswith('z'))\n",
        "     "
      ]
    },
    {
      "cell_type": "markdown",
      "source": [
        "Q2.List Methods"
      ],
      "metadata": {
        "id": "zL6-lPbbtzf1"
      }
    },
    {
      "cell_type": "code",
      "source": [
        "#list methods\n",
        "l=[1,\"hi\",6.0]\n",
        "l.append(4)\n",
        "print(l)\n",
        "print(l.index('hi'))\n",
        "l.reverse()\n",
        "print(l)\n",
        "l.insert(1,'o')#(index,\"char\")\n",
        "print(l)\n",
        "l2=l.copy()\n",
        "print(l2)"
      ],
      "metadata": {
        "id": "mKcpF6Nwt8uA"
      },
      "execution_count": null,
      "outputs": []
    },
    {
      "cell_type": "markdown",
      "source": [
        "Q3.Tuples"
      ],
      "metadata": {
        "id": "U7e4NoGtuBx-"
      }
    },
    {
      "cell_type": "code",
      "source": [
        "#tuples\n",
        "t=(1,4.5,5,8.00 )\n",
        "t1=(4,\"yayy\",\"hello\",t)\n",
        "t2=(\"hello\",1,4,4.5,t1,t)\n",
        "nt=(3,\"joe\",t1,t,t2)\n",
        "print(nt.count('1'))\n",
        "print(nt[-1][-2][-1][0])\n",
        "print(max(t))\n",
        "print(min(t))\n",
        "print(len(t))"
      ],
      "metadata": {
        "colab": {
          "base_uri": "https://localhost:8080/"
        },
        "id": "hlpS2KCYuJe7",
        "outputId": "e48ff11d-1da1-4841-de93-e16acd6e7591"
      },
      "execution_count": 4,
      "outputs": [
        {
          "output_type": "stream",
          "name": "stdout",
          "text": [
            "0\n",
            "1\n",
            "8.0\n",
            "1\n",
            "4\n"
          ]
        }
      ]
    },
    {
      "cell_type": "markdown",
      "source": [
        "Q4.Dictionaries"
      ],
      "metadata": {
        "id": "P_rfK1nPuRHN"
      }
    },
    {
      "cell_type": "code",
      "source": [
        "#dictionaries\n",
        "dict={\"name\":\"Rimsha\",\"rno\":1013}\n",
        "print(dict.fromkeys(\"name\"))\n",
        "print(dict.keys())\n",
        "print(dict.values())\n",
        "print(dict.items())\n",
        "print(dict.update({\"rno\":556}))\n",
        "print(dict.items())\n",
        "     "
      ],
      "metadata": {
        "colab": {
          "base_uri": "https://localhost:8080/"
        },
        "id": "fYywwK3buTAE",
        "outputId": "c2e39ee4-594d-4a6c-c08b-61635b47676b"
      },
      "execution_count": 6,
      "outputs": [
        {
          "output_type": "stream",
          "name": "stdout",
          "text": [
            "{'n': None, 'a': None, 'm': None, 'e': None}\n",
            "dict_keys(['name', 'rno'])\n",
            "dict_values(['Rimsha', 1013])\n",
            "dict_items([('name', 'Rimsha'), ('rno', 1013)])\n",
            "None\n",
            "dict_items([('name', 'Rimsha'), ('rno', 556)])\n"
          ]
        }
      ]
    },
    {
      "cell_type": "markdown",
      "source": [
        "Q5.SETS"
      ],
      "metadata": {
        "id": "Pvkj5CM9uTgz"
      }
    },
    {
      "cell_type": "code",
      "source": [
        "#sets\n",
        "s={'k',\"yy\",7}\n",
        "set={'u','ol',5,2.8}\n",
        "s1=set.copy()\n",
        "print(s1)\n",
        "print(set.pop())\n",
        "s2=set.intersection(s1)\n",
        "print(s2)\n",
        "set.update('6')\n",
        "print(set)\n",
        "print(set.isdisjoint(s))"
      ],
      "metadata": {
        "colab": {
          "base_uri": "https://localhost:8080/"
        },
        "id": "t5heM7q6uU_R",
        "outputId": "a8dffe1a-2fe1-4e12-ec61-6d7ac9bfaa40"
      },
      "execution_count": 7,
      "outputs": [
        {
          "output_type": "stream",
          "name": "stdout",
          "text": [
            "{'u', 'ol', 5, 2.8}\n",
            "u\n",
            "{2.8, 'ol', 5}\n",
            "{2.8, 'ol', 5, '6'}\n",
            "True\n"
          ]
        }
      ]
    },
    {
      "cell_type": "code",
      "source": [
        "c=13\n",
        "print(\"Binary number is:\",bin(c))\n",
        "print(\"Hexadecimal number is:\",hex(c))\n",
        "print(\"Octal number is:\",oct(c))"
      ],
      "metadata": {
        "colab": {
          "base_uri": "https://localhost:8080/"
        },
        "id": "Yg0v89r5vFhk",
        "outputId": "3653b10c-d1c9-434b-feb2-24bfb4233b53"
      },
      "execution_count": 9,
      "outputs": [
        {
          "output_type": "stream",
          "name": "stdout",
          "text": [
            "Binary number is: 0b1101\n",
            "Hexadecimal number is: 0xd\n",
            "Octal number is: 0o15\n"
          ]
        }
      ]
    },
    {
      "cell_type": "code",
      "source": [
        "#arithmetic operators\n",
        "print(\"arithmetic operators\")\n",
        "t=(1,1.5,0,9.08 )\n",
        "a=20\n",
        "b=2\n",
        "\n",
        "print(t[1]+b)\n",
        "print(a-t[3])\n",
        "print(int(t[-1]/t[-3]))\n",
        "print(a*b)\n",
        "print(a**b)\n",
        "print(t[3]//b)"
      ],
      "metadata": {
        "colab": {
          "base_uri": "https://localhost:8080/"
        },
        "id": "dOJdjh_WvKmM",
        "outputId": "58bbb06f-c719-4de2-e722-72804514ab07"
      },
      "execution_count": 10,
      "outputs": [
        {
          "output_type": "stream",
          "name": "stdout",
          "text": [
            "arithmetic operators\n",
            "3.5\n",
            "10.92\n",
            "6\n",
            "40\n",
            "400\n",
            "4.0\n"
          ]
        }
      ]
    },
    {
      "cell_type": "code",
      "source": [
        "#assignment operators\n",
        "t=(3,5,7,19)\n",
        "l=[5,7,1]\n",
        "print(l)\n",
        "t1=tuple(l)\n",
        "print(t1)\n",
        "\n",
        "a=t[-1]\n",
        "b=t[-4]\n",
        "c=a/b\n",
        "c+=a\n",
        "print(c)"
      ],
      "metadata": {
        "colab": {
          "base_uri": "https://localhost:8080/"
        },
        "id": "5P0XgXjmvVFq",
        "outputId": "91f38b79-6a8a-4d9f-fb95-fb01bb44edfc"
      },
      "execution_count": 12,
      "outputs": [
        {
          "output_type": "stream",
          "name": "stdout",
          "text": [
            "[5, 7, 1]\n",
            "(5, 7, 1)\n",
            "25.333333333333332\n"
          ]
        }
      ]
    },
    {
      "cell_type": "code",
      "source": [
        "#comparison operators\n",
        "t=(1,2,4,5,6)\n",
        "l=[5,7,9]\n",
        "print(l)\n",
        "t1=tuple(l)\n",
        "print(t1)\n",
        "a=t1[-1]\n",
        "b=l[2]\n",
        "print(a==b)\n",
        "print(a<=b)\n",
        "print(a>=b)\n",
        "print(a<<b)\n",
        "print(a>>b)\n",
        "print(a!=b)"
      ],
      "metadata": {
        "colab": {
          "base_uri": "https://localhost:8080/"
        },
        "id": "SNpRCsWVvmfx",
        "outputId": "1e05c726-9e63-40ac-c188-047e76fa14f8"
      },
      "execution_count": 14,
      "outputs": [
        {
          "output_type": "stream",
          "name": "stdout",
          "text": [
            "[5, 7, 9]\n",
            "(5, 7, 9)\n",
            "True\n",
            "True\n",
            "True\n",
            "4608\n",
            "0\n",
            "False\n"
          ]
        }
      ]
    },
    {
      "cell_type": "code",
      "source": [
        "#logical operators-and or not\n",
        "t=True\n",
        "f=False\n",
        "print(\"t and f is:\",t and f)\n",
        "print(\"t or f is:\",t or f)\n",
        "print(\"t not f is:\",not f)"
      ],
      "metadata": {
        "colab": {
          "base_uri": "https://localhost:8080/"
        },
        "id": "NjpqKwhRwHEo",
        "outputId": "8922a7fe-ee86-405d-d494-03e461e68bc2"
      },
      "execution_count": 15,
      "outputs": [
        {
          "output_type": "stream",
          "name": "stdout",
          "text": [
            "t and f is: False\n",
            "t or f is: True\n",
            "t not f is: True\n"
          ]
        }
      ]
    },
    {
      "cell_type": "code",
      "source": [
        "#bitwise opearators\n",
        "a=1\n",
        "b=4  \n",
        "\n",
        "print(a&b) #and\n",
        "print(a|b) #or\n",
        "print(~a) #not\n",
        "print(a^b) #XOr\n",
        "print(a>>2) #right shift\n",
        "print(a<<2) #left shift"
      ],
      "metadata": {
        "colab": {
          "base_uri": "https://localhost:8080/"
        },
        "id": "eyV3h194wTGi",
        "outputId": "505a2c06-1d5c-488d-b304-3e52cfea78d8"
      },
      "execution_count": 16,
      "outputs": [
        {
          "output_type": "stream",
          "name": "stdout",
          "text": [
            "0\n",
            "5\n",
            "-2\n",
            "5\n",
            "0\n",
            "4\n"
          ]
        }
      ]
    },
    {
      "cell_type": "code",
      "source": [
        "#membership operators\n",
        "a=\"hey everyone!\"\n",
        "print(\"e\" in a)"
      ],
      "metadata": {
        "colab": {
          "base_uri": "https://localhost:8080/"
        },
        "id": "LebGOk3EwbOs",
        "outputId": "46d3cb55-e50b-46b4-cf97-8a22b61c32c3"
      },
      "execution_count": 17,
      "outputs": [
        {
          "output_type": "stream",
          "name": "stdout",
          "text": [
            "True\n"
          ]
        }
      ]
    },
    {
      "cell_type": "code",
      "source": [
        "#identity operators\n",
        "a1=5\n",
        "b1=5\n",
        "a2=\"Aiml\"\n",
        "b2=\"aiml\"\n",
        "a3=[1,2,3]\n",
        "b3=[1,2,3]\n",
        "print(a1 is b1)\n",
        "print(a2 is b2)\n",
        "print(a2 is not b2)\n",
        "print(a3 is b3)"
      ],
      "metadata": {
        "colab": {
          "base_uri": "https://localhost:8080/"
        },
        "id": "er3oFKcHwnF8",
        "outputId": "cea5c45d-a8ac-4253-e109-feaa0e88fdb4"
      },
      "execution_count": 19,
      "outputs": [
        {
          "output_type": "stream",
          "name": "stdout",
          "text": [
            "True\n",
            "False\n",
            "True\n",
            "False\n"
          ]
        }
      ]
    },
    {
      "cell_type": "code",
      "source": [
        "l=[3,7.9,\"hello\",\"hii\",\"bye\"]\n",
        "l1=[\"python\",l]\n",
        "l2=[\"program\",\"students\",l1,l]\n",
        "l3=[4,6,3.7,\"whattt\",l2,l1,l]\n",
        "print(l3[-3::-2]) "
      ],
      "metadata": {
        "colab": {
          "base_uri": "https://localhost:8080/"
        },
        "id": "0Bns_ilVxDkk",
        "outputId": "58d034e2-0ae7-473c-e5a8-a025ec1c4fcd"
      },
      "execution_count": 20,
      "outputs": [
        {
          "output_type": "stream",
          "name": "stdout",
          "text": [
            "[['program', 'students', ['python', [3, 7.9, 'hello', 'hii', 'bye']], [3, 7.9, 'hello', 'hii', 'bye']], 3.7, 4]\n"
          ]
        }
      ]
    },
    {
      "cell_type": "code",
      "source": [
        "##reverse the string and prints the 3rd letter starting from the 4th at last(from 0)\n",
        "print( \"A series of characters designated as one object known as a string\"[::-1][4::3])\n",
        "print(\"-------------\")\n",
        "print( \"Welcome to Python traing program\"[3:10][::-1])"
      ],
      "metadata": {
        "colab": {
          "base_uri": "https://localhost:8080/"
        },
        "id": "xVCplWxcxIU7",
        "outputId": "acb9f7cd-13bd-41b2-b201-bde93657d88f"
      },
      "execution_count": 23,
      "outputs": [
        {
          "output_type": "stream",
          "name": "stdout",
          "text": [
            "taawkcbe  tgestrcoeeA\n",
            "-------------\n",
            "ot emoc\n"
          ]
        }
      ]
    },
    {
      "cell_type": "code",
      "source": [
        "t=\"was it acar or a cat I saw\"\n",
        "y=(t[::-1])\n",
        "print(y.upper())"
      ],
      "metadata": {
        "colab": {
          "base_uri": "https://localhost:8080/"
        },
        "id": "JyjFb3dvxbu4",
        "outputId": "7029e557-c271-43f7-9c41-37f14191e179"
      },
      "execution_count": 22,
      "outputs": [
        {
          "output_type": "stream",
          "name": "stdout",
          "text": [
            "WAS I TAC A RO RACA TI SAW\n"
          ]
        }
      ]
    },
    {
      "cell_type": "code",
      "source": [
        "X=int(input())\n",
        "print(X*'Z'+2*X*'O')"
      ],
      "metadata": {
        "colab": {
          "base_uri": "https://localhost:8080/"
        },
        "id": "hwykz5PKyBbn",
        "outputId": "c0064671-c9eb-4693-9085-56891410a470"
      },
      "execution_count": 25,
      "outputs": [
        {
          "output_type": "stream",
          "name": "stdout",
          "text": [
            "2\n",
            "ZZOOOO\n"
          ]
        }
      ]
    }
  ]
}