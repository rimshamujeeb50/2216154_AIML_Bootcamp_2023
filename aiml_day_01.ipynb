{
  "nbformat": 4,
  "nbformat_minor": 0,
  "metadata": {
    "colab": {
      "provenance": [],
      "authorship_tag": "ABX9TyPl/7TCkmRSZzZYUyeY9Gh1",
      "include_colab_link": true
    },
    "kernelspec": {
      "name": "python3",
      "display_name": "Python 3"
    },
    "language_info": {
      "name": "python"
    }
  },
  "cells": [
    {
      "cell_type": "markdown",
      "metadata": {
        "id": "view-in-github",
        "colab_type": "text"
      },
      "source": [
        "<a href=\"https://colab.research.google.com/github/rimshamujeeb50/2216154_AIML_Bootcamp_2023/blob/main/aiml_day_01.ipynb\" target=\"_parent\"><img src=\"https://colab.research.google.com/assets/colab-badge.svg\" alt=\"Open In Colab\"/></a>"
      ]
    },
    {
      "cell_type": "code",
      "execution_count": 1,
      "metadata": {
        "colab": {
          "base_uri": "https://localhost:8080/"
        },
        "id": "lBOcOITSiFv9",
        "outputId": "0ec493b4-c900-4cfc-dbdc-e31f2594ae28"
      },
      "outputs": [
        {
          "output_type": "stream",
          "name": "stdout",
          "text": [
            "100 100.0 hi hello\n",
            "20.0\n",
            "5.0\n"
          ]
        }
      ],
      "source": [
        "#variables\n",
        "a=100\n",
        "amount=100.0\n",
        "str1=\"hi\"\n",
        "str2=\"hello\"\n",
        "'''this is doc string'''\n",
        "comp=20+5j\n",
        "print(a,amount,str1,str2)\n",
        "print(comp.real)\n",
        "print(comp.imag)"
      ]
    },
    {
      "cell_type": "code",
      "source": [
        "#datatypes\n",
        "\n",
        "#integer\n",
        "a=100\n",
        "b=1+2j\n",
        "\n",
        "#float\n",
        "amount=200.00\n",
        "\n",
        "#text type\n",
        "str1=\"hi\"\n",
        "\n",
        "#sequence\n",
        "list=[1,2,3,4]\n",
        "tup=(1,2,3)\n",
        "\n",
        "#set type\n",
        "set1={1,2,3}\n",
        "\n",
        "#mapping type\n",
        "my_dict={\"apple\":\"red\"}\n",
        "\n",
        "#none type\n",
        "x=None\n",
        "\n",
        "#Binary type\n",
        "x=b\"Hello\" #byte\n",
        "x=bytearray(5) #bytearrays\n",
        "x=memoryview(bytes(4)) #memory view"
      ],
      "metadata": {
        "id": "5Lbaf6-ZiWA0"
      },
      "execution_count": 3,
      "outputs": []
    },
    {
      "cell_type": "code",
      "source": [
        "#type casting\n",
        "\n",
        "#expicit conversion\n",
        "b=2\n",
        "c=3.0\n",
        "d=int(c)\n",
        "e=float(b)\n",
        "\n",
        "print(d,e)\n",
        "\n",
        "#implicit conversion-automatically converts\n",
        "f=3\n",
        "g=4.0\n",
        "h=print(f+g)\n",
        "\n",
        "i=3\n",
        "sl=str(i)\n",
        "print(sl)\n",
        "j=int(sl)\n",
        "print(j)"
      ],
      "metadata": {
        "colab": {
          "base_uri": "https://localhost:8080/"
        },
        "id": "UtpG2DiMimpq",
        "outputId": "2fabf683-f882-4016-e260-f97e48ed0f49"
      },
      "execution_count": 4,
      "outputs": [
        {
          "output_type": "stream",
          "name": "stdout",
          "text": [
            "3 2.0\n",
            "7.0\n",
            "3\n",
            "3\n"
          ]
        }
      ]
    }
  ]
}