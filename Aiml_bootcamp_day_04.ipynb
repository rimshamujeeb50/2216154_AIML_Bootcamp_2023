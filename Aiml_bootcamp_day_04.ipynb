{
  "nbformat": 4,
  "nbformat_minor": 0,
  "metadata": {
    "colab": {
      "provenance": [],
      "authorship_tag": "ABX9TyNub+C4CHVGqOr1emY5M0wk",
      "include_colab_link": true
    },
    "kernelspec": {
      "name": "python3",
      "display_name": "Python 3"
    },
    "language_info": {
      "name": "python"
    }
  },
  "cells": [
    {
      "cell_type": "markdown",
      "metadata": {
        "id": "view-in-github",
        "colab_type": "text"
      },
      "source": [
        "<a href=\"https://colab.research.google.com/github/rimshamujeeb50/2216154_AIML_Bootcamp_2023/blob/main/Aiml_bootcamp_day_04.ipynb\" target=\"_parent\"><img src=\"https://colab.research.google.com/assets/colab-badge.svg\" alt=\"Open In Colab\"/></a>"
      ]
    },
    {
      "cell_type": "code",
      "execution_count": null,
      "metadata": {
        "colab": {
          "base_uri": "https://localhost:8080/"
        },
        "id": "4g6kZf66bZ-Z",
        "outputId": "16b194cb-781a-4636-ecc7-fb7bb0fb5a25"
      },
      "outputs": [
        {
          "output_type": "stream",
          "name": "stdout",
          "text": [
            "True\n",
            "100\n",
            "yes\n",
            "ENTER AGE21\n",
            "21\n"
          ]
        }
      ],
      "source": [
        "#desicion making\n",
        "\n",
        "#if statement\n",
        "var=100\n",
        "if var>0:\n",
        "  print(\"True\")\n",
        "  print(var)\n",
        "\n",
        "#if _else statement\n",
        "if var>10:\n",
        "  print(\"yes\")\n",
        "else:\n",
        "  print(\"no\")\n",
        "\n",
        "#nested if statement\n",
        "age=int(input(\"ENTER AGE\"))\n",
        "if age>0 and age<15:\n",
        "  if age>0 and age<2:\n",
        "   print(\"k\")\n",
        "  elif age>2 and age<7:\n",
        "   print(\"hello\")\n",
        "  else:\n",
        "    print(\"hi\")\n",
        "else:\n",
        "  print(age)"
      ]
    },
    {
      "cell_type": "code",
      "source": [
        "#python loops\n",
        "n=[1,2,3,4,5,5]\n",
        "for i in range(1,7): #(1,n-1)\n",
        "  print(i)\n",
        "s=0\n",
        "for j in n:\n",
        "  s=s+j\n",
        "print(\"sum:\",s)\n",
        "\n",
        "for i in range(1,6,3):\n",
        "  print(i)"
      ],
      "metadata": {
        "id": "VBMEJuLziSw9",
        "colab": {
          "base_uri": "https://localhost:8080/"
        },
        "outputId": "df1d3f01-6bc0-4fbd-b18c-37d831354af8"
      },
      "execution_count": 1,
      "outputs": [
        {
          "output_type": "stream",
          "name": "stdout",
          "text": [
            "1\n",
            "2\n",
            "3\n",
            "4\n",
            "5\n",
            "6\n",
            "sum: 20\n",
            "1\n",
            "4\n"
          ]
        }
      ]
    },
    {
      "cell_type": "code",
      "source": [
        "#while loop -used for large data\n",
        "c=1\n",
        "while(c<7):\n",
        "  print(c)\n",
        "  c=c+1\n"
      ],
      "metadata": {
        "id": "UDFk3PNgjrBL",
        "colab": {
          "base_uri": "https://localhost:8080/"
        },
        "outputId": "f444684f-2f0c-4be0-e426-e56e99969006"
      },
      "execution_count": 2,
      "outputs": [
        {
          "output_type": "stream",
          "name": "stdout",
          "text": [
            "1\n",
            "2\n",
            "3\n",
            "4\n",
            "5\n",
            "6\n"
          ]
        }
      ]
    },
    {
      "cell_type": "code",
      "source": [
        "#nested loop\n",
        "x=[[12,7,3],[4,5,6],[7,8,9]]\n",
        "y=[[4,8,12],[1,1,0],[5,3,0]]\n",
        "res=[[0,0,0],[0,0,0],[0,0,0]]\n",
        "\n",
        "for i in range(len(x)):\n",
        "  for j in range(len(x[0])):\n",
        "    res[i][j]=x[i][j]+y[i][j]\n",
        "for r in res:\n",
        "  print(r)\n"
      ],
      "metadata": {
        "id": "Ys-6sUF8hvFK",
        "colab": {
          "base_uri": "https://localhost:8080/"
        },
        "outputId": "9a306714-6470-4d9d-f84d-4607e95cfc7a"
      },
      "execution_count": 3,
      "outputs": [
        {
          "output_type": "stream",
          "name": "stdout",
          "text": [
            "[16, 15, 15]\n",
            "[5, 6, 6]\n",
            "[12, 11, 9]\n"
          ]
        }
      ]
    },
    {
      "cell_type": "code",
      "source": [
        "#nested while loop\n",
        "num=int(input(\"enter until which number u need\"))\n",
        "i=1\n",
        "while(i<=num):\n",
        "  print(f\"table {i}\")\n",
        "  j=1\n",
        "  while(j<=10):\n",
        "    print(f\"{i}*{j}={i*j}\")\n",
        "    j=j+1\n",
        "  print(\"_____________\")\n",
        "  i=i+1"
      ],
      "metadata": {
        "colab": {
          "base_uri": "https://localhost:8080/"
        },
        "id": "3Sbj1bbyj18w",
        "outputId": "795c4010-4760-4a5c-92b7-71f34f39d097"
      },
      "execution_count": null,
      "outputs": [
        {
          "output_type": "stream",
          "name": "stdout",
          "text": [
            "enter until which number u need3\n",
            "table 1\n",
            "1*1=1\n",
            "1*2=2\n",
            "1*3=3\n",
            "1*4=4\n",
            "1*5=5\n",
            "1*6=6\n",
            "1*7=7\n",
            "1*8=8\n",
            "1*9=9\n",
            "1*10=10\n",
            "_____________\n",
            "table 2\n",
            "2*1=2\n",
            "2*2=4\n",
            "2*3=6\n",
            "2*4=8\n",
            "2*5=10\n",
            "2*6=12\n",
            "2*7=14\n",
            "2*8=16\n",
            "2*9=18\n",
            "2*10=20\n",
            "_____________\n",
            "table 3\n",
            "3*1=3\n",
            "3*2=6\n",
            "3*3=9\n",
            "3*4=12\n",
            "3*5=15\n",
            "3*6=18\n",
            "3*7=21\n",
            "3*8=24\n",
            "3*9=27\n",
            "3*10=30\n",
            "_____________\n"
          ]
        }
      ]
    },
    {
      "cell_type": "code",
      "source": [
        "#control statement\n",
        "\n",
        "#break\n",
        "for q in \"python\":\n",
        "  if q=='h':\n",
        "    break\n",
        "  print(\"current letter\",q)\n",
        "print(\"________________\")\n",
        "#continue\n",
        "for q in \"python\":\n",
        "  if q=='h':\n",
        "    continue\n",
        "  print(\"current letter\",q)\n",
        "print(\"_________________\")\n",
        "#paas\n",
        "for q in \"python\":\n",
        "  if q=='h':\n",
        "    pass\n",
        "    print(\"this is in pass block\")\n",
        "  print(\"current letter\",q)\n",
        "  "
      ],
      "metadata": {
        "colab": {
          "base_uri": "https://localhost:8080/"
        },
        "id": "GBw9Yj8Wko5C",
        "outputId": "c724aa21-eed0-4faa-dd39-23d84767edb4"
      },
      "execution_count": null,
      "outputs": [
        {
          "output_type": "stream",
          "name": "stdout",
          "text": [
            "current letter p\n",
            "current letter y\n",
            "current letter t\n",
            "________________\n",
            "current letter p\n",
            "current letter y\n",
            "current letter t\n",
            "current letter o\n",
            "current letter n\n",
            "_________________\n",
            "current letter p\n",
            "current letter y\n",
            "current letter t\n",
            "current letter h\n",
            "current letter o\n",
            "current letter n\n"
          ]
        }
      ]
    },
    {
      "cell_type": "code",
      "source": [
        "#function\n",
        "\n",
        "def green(name):\n",
        "  '''this function greets a person'''\n",
        "  print(\"hello,\\t\"+name+\"\\t goodmorning\")\n",
        "green(\"Rimsha\")"
      ],
      "metadata": {
        "colab": {
          "base_uri": "https://localhost:8080/"
        },
        "id": "UNwKT7HZnoDl",
        "outputId": "49cefc62-792c-4aff-8575-adb86c0159c0"
      },
      "execution_count": null,
      "outputs": [
        {
          "output_type": "stream",
          "name": "stdout",
          "text": [
            "hello,\tRimsha\t goodmorning\n"
          ]
        }
      ]
    },
    {
      "cell_type": "code",
      "source": [
        "#default\n",
        "def A(a,b=1,c=2):\n",
        "  return a+b+c\n",
        "\n",
        "print(A(3))\n",
        "print(A(4,4,4))"
      ],
      "metadata": {
        "colab": {
          "base_uri": "https://localhost:8080/"
        },
        "id": "D2NIazOWotPo",
        "outputId": "4fdabf38-58e8-4e50-a57e-51728c15ae23"
      },
      "execution_count": null,
      "outputs": [
        {
          "output_type": "stream",
          "name": "stdout",
          "text": [
            "6\n",
            "12\n"
          ]
        }
      ]
    },
    {
      "cell_type": "code",
      "source": [
        "#keyword"
      ],
      "metadata": {
        "id": "Nthz8crcpBFF"
      },
      "execution_count": null,
      "outputs": []
    },
    {
      "cell_type": "code",
      "source": [
        "#positional---directly corresponds to keyword\n",
        "def A(a,b,c):\n",
        "  return a+b+c\n",
        "\n",
        "print(A(10,20,30))"
      ],
      "metadata": {
        "id": "l0uY32fwpC7i"
      },
      "execution_count": null,
      "outputs": []
    },
    {
      "cell_type": "code",
      "source": [
        "#arbitary positional\n",
        "def add_num(*n):\n",
        "  print(sum(n))\n",
        "\n",
        "add_num(1,2,3,4,5,6,7,8)"
      ],
      "metadata": {
        "colab": {
          "base_uri": "https://localhost:8080/"
        },
        "id": "95u6DbkDpTBT",
        "outputId": "7de5906f-4dbd-478e-ad90-8522c7f522cc"
      },
      "execution_count": null,
      "outputs": [
        {
          "output_type": "stream",
          "name": "stdout",
          "text": [
            "36\n"
          ]
        }
      ]
    },
    {
      "cell_type": "code",
      "source": [
        "#arbitary keyword\n",
        "def key_args(**kwargs):\n",
        "  return kwargs\n",
        "myd=key_args(apples=10,banana=5)\n",
        "print(myd['apples'])\n",
        "print(myd)"
      ],
      "metadata": {
        "colab": {
          "base_uri": "https://localhost:8080/"
        },
        "id": "4xEurf0yp7xo",
        "outputId": "7628bc9c-ce54-4889-ba3d-708f6ca461d5"
      },
      "execution_count": null,
      "outputs": [
        {
          "output_type": "stream",
          "name": "stdout",
          "text": [
            "10\n",
            "{'apples': 10, 'banana': 5}\n"
          ]
        }
      ]
    },
    {
      "cell_type": "code",
      "source": [
        "#higher order functions\n",
        "def shout(text):\n",
        "  return text.upper()\n",
        "def whisper(text):\n",
        "  return text.lower()\n",
        "\n",
        "def explain(func):\n",
        "  greet=func(\"hi ,iam HiGHer OrdwR fUnction\")\n",
        "  print(greet)\n",
        "\n",
        "explain(shout)\n",
        "explain(whisper)"
      ],
      "metadata": {
        "id": "IqcRxiwqrSgN",
        "colab": {
          "base_uri": "https://localhost:8080/"
        },
        "outputId": "1745c807-7879-4eb1-bdf2-ca50a54cb5ef"
      },
      "execution_count": 5,
      "outputs": [
        {
          "output_type": "stream",
          "name": "stdout",
          "text": [
            "HI ,IAM HIGHER ORDWR FUNCTION\n",
            "hi ,iam higher ordwr function\n"
          ]
        }
      ]
    }
  ]
}