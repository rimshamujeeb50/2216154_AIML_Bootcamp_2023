{
  "nbformat": 4,
  "nbformat_minor": 0,
  "metadata": {
    "colab": {
      "provenance": [],
      "authorship_tag": "ABX9TyN03IBdvnoP/LUaca1TiBBL",
      "include_colab_link": true
    },
    "kernelspec": {
      "name": "python3",
      "display_name": "Python 3"
    },
    "language_info": {
      "name": "python"
    }
  },
  "cells": [
    {
      "cell_type": "markdown",
      "metadata": {
        "id": "view-in-github",
        "colab_type": "text"
      },
      "source": [
        "<a href=\"https://colab.research.google.com/github/rimshamujeeb50/2216154_AIML_Bootcamp_2023/blob/main/Aiml_bootcamp_day_02.ipynb\" target=\"_parent\"><img src=\"https://colab.research.google.com/assets/colab-badge.svg\" alt=\"Open In Colab\"/></a>"
      ]
    },
    {
      "cell_type": "code",
      "execution_count": 1,
      "metadata": {
        "colab": {
          "base_uri": "https://localhost:8080/"
        },
        "id": "-rxUOus8nkcO",
        "outputId": "25527b6e-031e-4666-f000-40287667c78b"
      },
      "outputs": [
        {
          "output_type": "stream",
          "name": "stdout",
          "text": [
            "arithmetic operators\n",
            "22\n",
            "18\n",
            "10.0\n",
            "40\n",
            "400\n",
            "10\n"
          ]
        }
      ],
      "source": [
        "#arithmetic operators\n",
        "print(\"arithmetic operators\")\n",
        "a=20\n",
        "b=2\n",
        "\n",
        "print(a+b)\n",
        "print(a-b)\n",
        "print(a/b)\n",
        "print(a*b)\n",
        "print(a**b)\n",
        "print(a//b)"
      ]
    },
    {
      "cell_type": "code",
      "source": [
        "#comparison operators\n",
        "\n",
        "#comparison operators\n",
        "\n",
        "a==b\n",
        "a<=b\n",
        "a>=b\n",
        "a<<b\n",
        "a>>b\n",
        "a!=b"
      ],
      "metadata": {
        "colab": {
          "base_uri": "https://localhost:8080/"
        },
        "id": "ph-pLK2rn4nK",
        "outputId": "cb931ce0-ad3e-47d1-a464-ee2c694a575c"
      },
      "execution_count": 4,
      "outputs": [
        {
          "output_type": "execute_result",
          "data": {
            "text/plain": [
              "True"
            ]
          },
          "metadata": {},
          "execution_count": 4
        }
      ]
    },
    {
      "cell_type": "code",
      "source": [
        "#assignment operators\n",
        "a=20\n",
        "b=2\n",
        "\n",
        "c=a+b\n",
        "c-=a\n",
        "print(c)\n"
      ],
      "metadata": {
        "colab": {
          "base_uri": "https://localhost:8080/"
        },
        "id": "SrPr8UUeodOR",
        "outputId": "ed4e75b4-b63c-4bc2-c086-9335c74b1543"
      },
      "execution_count": 5,
      "outputs": [
        {
          "output_type": "stream",
          "name": "stdout",
          "text": [
            "2\n"
          ]
        }
      ]
    },
    {
      "cell_type": "code",
      "source": [
        "#logical operators-and or not\n",
        "t=True\n",
        "f=False\n",
        "print(\"t and f is:\",t and f)\n",
        "print(\"t or f is:\",t or f)\n",
        "print(\"t not f is:\",not f)"
      ],
      "metadata": {
        "colab": {
          "base_uri": "https://localhost:8080/"
        },
        "id": "_D5SK-Jaof9K",
        "outputId": "703a5569-899c-493d-903d-f001d4ae8861"
      },
      "execution_count": 6,
      "outputs": [
        {
          "output_type": "stream",
          "name": "stdout",
          "text": [
            "t and f is: False\n",
            "t or f is: True\n",
            "t not f is: True\n"
          ]
        }
      ]
    },
    {
      "cell_type": "code",
      "source": [
        "#bitwise opearators\n",
        "a=13 #0000 1101\n",
        "b=14 #0000 1110\n",
        "\n",
        "print(a&b) #and\n",
        "print(a|b) #or\n",
        "print(~a) #not\n",
        "print(a^b) #XOr\n",
        "print(a>>2) #right shift\n",
        "print(a<<2) #left shift"
      ],
      "metadata": {
        "colab": {
          "base_uri": "https://localhost:8080/"
        },
        "id": "QzfO5rswoqSF",
        "outputId": "8ba188a5-2e8f-420b-dfb6-3ae8ac602a9e"
      },
      "execution_count": 7,
      "outputs": [
        {
          "output_type": "stream",
          "name": "stdout",
          "text": [
            "12\n",
            "15\n",
            "-14\n",
            "3\n",
            "3\n",
            "52\n"
          ]
        }
      ]
    },
    {
      "cell_type": "code",
      "source": [
        "#membership operators\n",
        "a=\"hello world!\"\n",
        "print(\"l\" in a)"
      ],
      "metadata": {
        "colab": {
          "base_uri": "https://localhost:8080/"
        },
        "id": "ieyagKgZos0R",
        "outputId": "e9802117-dd6a-4906-872b-c1554a55ec36"
      },
      "execution_count": 8,
      "outputs": [
        {
          "output_type": "stream",
          "name": "stdout",
          "text": [
            "True\n"
          ]
        }
      ]
    },
    {
      "cell_type": "code",
      "source": [
        "#identity operators\n",
        "a1=5\n",
        "b1=5\n",
        "a2=\"yayy\"\n",
        "b2=\"yayy\"\n",
        "a3=[6,7,8]\n",
        "b3=[6,7,8]\n",
        "print(a1 is not b1)\n",
        "print(a2 is b2)\n",
        "print(a3 is b3)"
      ],
      "metadata": {
        "colab": {
          "base_uri": "https://localhost:8080/"
        },
        "id": "5fS8KRBboyCW",
        "outputId": "cec39e83-696b-45f5-ef1e-cc96634154fc"
      },
      "execution_count": 9,
      "outputs": [
        {
          "output_type": "stream",
          "name": "stdout",
          "text": [
            "False\n",
            "True\n",
            "False\n"
          ]
        }
      ]
    },
    {
      "cell_type": "code",
      "source": [
        "a=int(input(\"enter value of a:\"))\n",
        "print(a)\n",
        "\n",
        "b=input(\"enter string\")\n",
        "print(b)"
      ],
      "metadata": {
        "colab": {
          "base_uri": "https://localhost:8080/"
        },
        "id": "hL0nP_Rgo2li",
        "outputId": "986656ff-fb52-4015-eb94-6661ea4ce595"
      },
      "execution_count": 10,
      "outputs": [
        {
          "output_type": "stream",
          "name": "stdout",
          "text": [
            "enter value of a:5\n",
            "5\n",
            "enter stringRimsha\n",
            "Rimsha\n"
          ]
        }
      ]
    },
    {
      "cell_type": "code",
      "source": [
        "#strings\n",
        "\n",
        "str=\"Rimsha\"\n",
        "\n",
        "#indexing\n",
        "print(str[0])\n",
        "print(str[-1])\n",
        "\n",
        "#slicing\n",
        "print(str[0:5:2])\n",
        "\n",
        "print(str[::])\n",
        "\n",
        "#reverse of string\n",
        "print(str[::-1])\n",
        "\n",
        "#string methods\n",
        "my_str=\" Iam Rimsha\"\n",
        "print(my_str.upper())\n",
        "print(my_str.lower())\n",
        "print(my_str.swapcase()) #lower to caps and viceversa\n",
        "print(my_str.lstrip())\n",
        "\n",
        "#string operations\n",
        "str1=\"hello\"\n",
        "str2=\"This is me\"\n",
        "print(str1+str2)\n",
        "print(str1*2)"
      ],
      "metadata": {
        "colab": {
          "base_uri": "https://localhost:8080/"
        },
        "id": "nTV-7HUhpAXN",
        "outputId": "80e39859-00b9-4365-cbdb-0ee421ef609c"
      },
      "execution_count": 11,
      "outputs": [
        {
          "output_type": "stream",
          "name": "stdout",
          "text": [
            "R\n",
            "a\n",
            "Rmh\n",
            "Rimsha\n",
            "ahsmiR\n",
            " IAM RIMSHA\n",
            " iam rimsha\n",
            " iAM rIMSHA\n",
            "Iam Rimsha\n",
            "helloThis is me\n",
            "hellohello\n"
          ]
        }
      ]
    }
  ]
}