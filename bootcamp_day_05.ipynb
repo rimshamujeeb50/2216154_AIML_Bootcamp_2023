{
  "nbformat": 4,
  "nbformat_minor": 0,
  "metadata": {
    "colab": {
      "provenance": [],
      "authorship_tag": "ABX9TyMcGp2GouneV8OdGzhQPn+D",
      "include_colab_link": true
    },
    "kernelspec": {
      "name": "python3",
      "display_name": "Python 3"
    },
    "language_info": {
      "name": "python"
    }
  },
  "cells": [
    {
      "cell_type": "markdown",
      "metadata": {
        "id": "view-in-github",
        "colab_type": "text"
      },
      "source": [
        "<a href=\"https://colab.research.google.com/github/rimshamujeeb50/2216154_AIML_Bootcamp_2023/blob/main/bootcamp_day_05.ipynb\" target=\"_parent\"><img src=\"https://colab.research.google.com/assets/colab-badge.svg\" alt=\"Open In Colab\"/></a>"
      ]
    },
    {
      "cell_type": "code",
      "source": [
        "#Lambda function-take any no. of args but can have only one expression\n",
        "#lambda x:x+1\n",
        "def inc(x):\n",
        "  x=x+1\n",
        "  return x\n",
        "\n",
        "print((lambda x:x+1)(4))\n",
        "\n",
        "inc(4)\n",
        "\n",
        "print((lambda x,y:x**y)(2,2))"
      ],
      "metadata": {
        "colab": {
          "base_uri": "https://localhost:8080/"
        },
        "id": "F6JWE2LEpY5G",
        "outputId": "6f9510b4-a3fd-4a74-cef2-176caffd79c2"
      },
      "execution_count": 1,
      "outputs": [
        {
          "output_type": "stream",
          "name": "stdout",
          "text": [
            "5\n",
            "4\n"
          ]
        }
      ]
    },
    {
      "cell_type": "code",
      "source": [
        "#we cant use lambda for list,so we use map\n",
        "li=[1,2,3,4]\n",
        "'''def fun(n):\n",
        "  return n+2\n",
        "res=list(map(inc,li)) \n",
        "print(res)'''\n",
        "\n",
        "print(list(map(lambda x:x+2,li)))\n",
        "     "
      ],
      "metadata": {
        "colab": {
          "base_uri": "https://localhost:8080/"
        },
        "id": "N0oblQEcpdhE",
        "outputId": "2f74f699-7027-4bd9-dd27-cd2784dedf33"
      },
      "execution_count": 2,
      "outputs": [
        {
          "output_type": "stream",
          "name": "stdout",
          "text": [
            "[3, 4, 5, 6]\n"
          ]
        }
      ]
    },
    {
      "cell_type": "code",
      "source": [
        "l1=[  'Aha','Netflix','zEE']\n",
        "print(list(map(lambda x:x.lower(),l1)))\n",
        "print(list(map(lambda x:x.upper(),l1)))\n",
        "print(list(map(lambda x:x.title(),l1)))\n",
        "print(list(map(lambda x:x.startswith('Aha'),l1)))\n",
        "print(list(map(lambda x:x.swapcase(),l1)))"
      ],
      "metadata": {
        "colab": {
          "base_uri": "https://localhost:8080/"
        },
        "id": "iEdrD16gpvXL",
        "outputId": "a700f565-758f-4503-b725-9b4a7c2784de"
      },
      "execution_count": 3,
      "outputs": [
        {
          "output_type": "stream",
          "name": "stdout",
          "text": [
            "['aha', 'netflix', 'zee']\n",
            "['AHA', 'NETFLIX', 'ZEE']\n",
            "['Aha', 'Netflix', 'Zee']\n",
            "[True, False, False]\n",
            "['aHA', 'nETFLIX', 'Zee']\n"
          ]
        }
      ]
    },
    {
      "cell_type": "code",
      "source": [
        "def eod(n):\n",
        "  if n%2 ==0:\n",
        "    return \"the number {} is even\".format(n)\n",
        "  else:\n",
        "    return \"the number {} is odd\".format(n)\n",
        "\n",
        "eod(20)"
      ],
      "metadata": {
        "colab": {
          "base_uri": "https://localhost:8080/",
          "height": 36
        },
        "id": "o0R6jp12pynl",
        "outputId": "9b61a964-0e34-4201-aeaf-a7235784a6ac"
      },
      "execution_count": 4,
      "outputs": [
        {
          "output_type": "execute_result",
          "data": {
            "text/plain": [
              "'the number 20 is even'"
            ],
            "application/vnd.google.colaboratory.intrinsic+json": {
              "type": "string"
            }
          },
          "metadata": {},
          "execution_count": 4
        }
      ]
    },
    {
      "cell_type": "code",
      "source": [
        "l2=[1,2,3,4,5,6,7]\n",
        "list(map(eod,l2))"
      ],
      "metadata": {
        "colab": {
          "base_uri": "https://localhost:8080/"
        },
        "id": "LO2rxsBKp5wF",
        "outputId": "d4c3b8b1-963c-49e0-e809-fd4d213a1302"
      },
      "execution_count": 5,
      "outputs": [
        {
          "output_type": "execute_result",
          "data": {
            "text/plain": [
              "['the number 1 is odd',\n",
              " 'the number 2 is even',\n",
              " 'the number 3 is odd',\n",
              " 'the number 4 is even',\n",
              " 'the number 5 is odd',\n",
              " 'the number 6 is even',\n",
              " 'the number 7 is odd']"
            ]
          },
          "metadata": {},
          "execution_count": 5
        }
      ]
    },
    {
      "cell_type": "code",
      "source": [
        "#filter-conditional things\n",
        "def odd_n(n):\n",
        "  if n%2 != 0:\n",
        "    return n\n",
        "\n",
        "my_l=[63,55,4,25,6]\n",
        "print(list(map(odd_n,my_l)))\n",
        "print(list(filter(odd_n,my_l)))\n",
        "my_l=[63,55,4,25,6]\n",
        "print(list(filter(lambda x:x%2 !=0 ,my_l))) #here,using lambda we could check the condition then and there"
      ],
      "metadata": {
        "colab": {
          "base_uri": "https://localhost:8080/"
        },
        "id": "C95MlnMwp9MF",
        "outputId": "dc05f16f-834e-4e93-d717-42ca0086abc5"
      },
      "execution_count": 6,
      "outputs": [
        {
          "output_type": "stream",
          "name": "stdout",
          "text": [
            "[63, 55, None, 25, None]\n",
            "[63, 55, 25]\n",
            "[63, 55, 25]\n"
          ]
        }
      ]
    },
    {
      "cell_type": "code",
      "source": [
        "#OOPS concepts\n",
        "#class and obj\n",
        "\n",
        "class C:\n",
        "  def addn(self,a,b):#self represents if some operations are done it rewrites to self like a reference\n",
        "    return a+b\n",
        "  def subn(self,a,b):\n",
        "    return a-b\n",
        "\n",
        "O=C()\n",
        "print(\"Addition of two numbers is:\",O.addn(5,3))\n",
        "print(\"subtraction of two numbers is:\",O.subn(5,3))"
      ],
      "metadata": {
        "colab": {
          "base_uri": "https://localhost:8080/"
        },
        "id": "IGfq2qZqqCsH",
        "outputId": "31921522-cd64-4f1b-97e0-2567f7515140"
      },
      "execution_count": 7,
      "outputs": [
        {
          "output_type": "stream",
          "name": "stdout",
          "text": [
            "Addition of two numbers is: 8\n",
            "subtraction of two numbers is: 2\n"
          ]
        }
      ]
    },
    {
      "cell_type": "code",
      "source": [
        "class A:\n",
        "  def pow(self,n,m):\n",
        "    return n**m\n",
        "\n",
        "obj=A()\n",
        "print(obj.pow(3,2))\n",
        "     \n",
        "\n",
        "\n",
        "#inheritance\n",
        "#simple\n",
        "class Animal:\n",
        "  def animal_sounds(self):\n",
        "    return \"makes sound\"\n",
        "class Cat(Animal):\n",
        "  def cat_sounds(self):\n",
        "    return \"Cat\" +self.animal_sounds()+\" MEOW\"\n",
        "  '''def __str__(self): #__str__ default keyword to print\n",
        "    return  \"cat\"'''\n",
        "\n",
        "obj1=Cat()\n",
        "print(obj1,obj1.cat_sounds())"
      ],
      "metadata": {
        "colab": {
          "base_uri": "https://localhost:8080/"
        },
        "id": "CMjSNiZbqH0Z",
        "outputId": "99bb145a-0d91-4e65-8e97-2f9e6587ba1b"
      },
      "execution_count": 8,
      "outputs": [
        {
          "output_type": "stream",
          "name": "stdout",
          "text": [
            "9\n",
            "<__main__.Cat object at 0x7f424a981730> Catmakes sound MEOW\n"
          ]
        }
      ]
    },
    {
      "cell_type": "code",
      "source": [
        "# hierarchial\n",
        "class Animal:\n",
        "  def animal_sounds(self):\n",
        "    return \"makes sound\"\n",
        "class Cat(Animal):\n",
        "  def cat_sounds(self):\n",
        "    return  self.animal_sounds()+\" MEOW\"\n",
        "  def __str__(self):  \n",
        "    return  \"cat\" \n",
        "class Dog(Animal):\n",
        "  def dog_sound(self):\n",
        "    return self.animal_sounds()+ \" BOW\"\n",
        "  def __str__(self):\n",
        "    return \"DOG\"\n",
        "\n",
        "obj1=Cat()\n",
        "do=Dog()\n",
        "print(obj1,obj1.cat_sounds())\n",
        "\n",
        "print(obj1,do.dog_sound())"
      ],
      "metadata": {
        "colab": {
          "base_uri": "https://localhost:8080/"
        },
        "id": "sUFpktzVqO_b",
        "outputId": "5f35b24a-332c-4a33-d48f-cf5283f3682e"
      },
      "execution_count": 9,
      "outputs": [
        {
          "output_type": "stream",
          "name": "stdout",
          "text": [
            "cat makes sound MEOW\n",
            "cat makes sound BOW\n"
          ]
        }
      ]
    },
    {
      "cell_type": "code",
      "source": [
        "#multilevel \n",
        "class Animal:\n",
        "  def animal_sound(self):\n",
        "    return \"makes sound\"\n",
        "class Cat(Animal):\n",
        "  def cat_sound(self):\n",
        "    return self.animal_sound()+\" MEOW\"\n",
        "class Cat_color(Cat):\n",
        "  def color(self):\n",
        "    return \"color is white\"\n",
        "  def __str__(self):\n",
        "    return \"cat\"\n",
        "\n",
        "cc=Cat_color()\n",
        "print(cc,cc.color())\n",
        "print(cc,cc.cat_sound())"
      ],
      "metadata": {
        "id": "L79mpZ7SqVUQ"
      },
      "execution_count": null,
      "outputs": []
    }
  ]
}