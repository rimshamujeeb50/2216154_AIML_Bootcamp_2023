{
  "nbformat": 4,
  "nbformat_minor": 0,
  "metadata": {
    "colab": {
      "provenance": [],
      "authorship_tag": "ABX9TyONzTjNrwcWassbr4g4tq0k",
      "include_colab_link": true
    },
    "kernelspec": {
      "name": "python3",
      "display_name": "Python 3"
    },
    "language_info": {
      "name": "python"
    }
  },
  "cells": [
    {
      "cell_type": "markdown",
      "metadata": {
        "id": "view-in-github",
        "colab_type": "text"
      },
      "source": [
        "<a href=\"https://colab.research.google.com/github/rimshamujeeb50/2216154_AIML_Bootcamp_2023/blob/main/bootcamp_day_08.ipynb\" target=\"_parent\"><img src=\"https://colab.research.google.com/assets/colab-badge.svg\" alt=\"Open In Colab\"/></a>"
      ]
    },
    {
      "cell_type": "code",
      "execution_count": null,
      "metadata": {
        "id": "rnAlgmNfh3cu"
      },
      "outputs": [],
      "source": [
        "#filr Handling\n",
        "#open file\n",
        "#perform operations\n",
        "#close file\n",
        "\n",
        "#file object=open(\"file name\",\"mode\")\n",
        "'''\n",
        "x=create mode\n",
        "r=read\n",
        "w=write\n",
        "r+=read and write\n",
        "w+=write and read\n",
        "rb=read binary\n",
        "wb=write binary\n",
        "rb+\n",
        "wb+\n",
        "a=append\n",
        "'''"
      ]
    },
    {
      "cell_type": "code",
      "source": [
        "f=open(\"samples11.txt\",\"x\")#since jst crated need not to close compulsaafily\n"
      ],
      "metadata": {
        "id": "kWdsmYVBk8hn"
      },
      "execution_count": null,
      "outputs": []
    },
    {
      "cell_type": "code",
      "source": [
        "f=open(\"samples11.txt\",\"w\")\n",
        "f.write(\"welcome to python programming\")\n",
        "f.close()"
      ],
      "metadata": {
        "id": "DeQUSm4nlUO-"
      },
      "execution_count": null,
      "outputs": []
    },
    {
      "cell_type": "code",
      "source": [
        "f=open(\"samples11.txt\",\"r\")\n",
        "print(f.read(3))\n",
        "print(f.tell())\n",
        "print(f.seek(2))\n",
        "print(f.seek(0))\n",
        "print(f.readline())#first line\n",
        "print(f.seek(0))\n",
        "print(f.readlines())#display everything in list format\n",
        "print(f.close())"
      ],
      "metadata": {
        "colab": {
          "base_uri": "https://localhost:8080/"
        },
        "id": "-Nek9yfjmft6",
        "outputId": "fdb2828f-d92e-4617-89f3-eabb6bb6f4bf"
      },
      "execution_count": null,
      "outputs": [
        {
          "output_type": "stream",
          "name": "stdout",
          "text": [
            "wel\n",
            "3\n",
            "2\n",
            "0\n",
            "welcome to python programming\n",
            "0\n",
            "['welcome to python programming']\n",
            "None\n"
          ]
        }
      ]
    },
    {
      "cell_type": "code",
      "source": [
        "#copy and paste from one file to another\n",
        "f1=open(\"f1.txt\",\"w\")\n",
        "f1.write(\"copy paste\")\n",
        "f1.close()\n"
      ],
      "metadata": {
        "id": "ATCxwjWNoEp3"
      },
      "execution_count": null,
      "outputs": []
    },
    {
      "cell_type": "code",
      "source": [
        "f1=open(\"f1.txt\",\"r\")\n",
        "temp=f1.read()\n",
        "f1.close()\n",
        "\n",
        "f2=open(\"f2.txt\",\"w\")\n",
        "f2.write(temp)\n",
        "f2.close()\n"
      ],
      "metadata": {
        "id": "fgR2MTtUoYHG"
      },
      "execution_count": null,
      "outputs": []
    },
    {
      "cell_type": "code",
      "source": [
        "#append\n",
        "#reverse palindrome\n",
        "#check it is armstrong\n",
        "#create a dictionary and save in file and convert this to list"
      ],
      "metadata": {
        "id": "AETRllkgo1H0"
      },
      "execution_count": null,
      "outputs": []
    },
    {
      "cell_type": "code",
      "source": [
        "#pickling:object stream(normal text)to byte stream\n",
        "import pickle\n",
        "mylist=['a','b','c','d','e']\n",
        "f3=open('datafile.txt','wb')\n",
        "pickle.dump(mylist,f3)\n",
        "f3.close()\n",
        "\n",
        "#unpickile\n",
        "pickle_off=open(\"datafile.txt\",\"rb\")\n",
        "e=pickle.load(pickle_off)\n",
        "print(e)"
      ],
      "metadata": {
        "colab": {
          "base_uri": "https://localhost:8080/"
        },
        "id": "jrrL1ZhrpNHJ",
        "outputId": "9daa9223-2ed2-45df-9264-449742164330"
      },
      "execution_count": null,
      "outputs": [
        {
          "output_type": "stream",
          "name": "stdout",
          "text": [
            "['a', 'b', 'c', 'd', 'e']\n"
          ]
        }
      ]
    },
    {
      "cell_type": "code",
      "source": [],
      "metadata": {
        "id": "LWjB29aRrgwS"
      },
      "execution_count": null,
      "outputs": []
    }
  ]
}