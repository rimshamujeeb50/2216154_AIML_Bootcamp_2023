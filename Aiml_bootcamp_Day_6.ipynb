{
  "nbformat": 4,
  "nbformat_minor": 0,
  "metadata": {
    "colab": {
      "provenance": [],
      "include_colab_link": true
    },
    "kernelspec": {
      "name": "python3",
      "display_name": "Python 3"
    },
    "language_info": {
      "name": "python"
    }
  },
  "cells": [
    {
      "cell_type": "markdown",
      "metadata": {
        "id": "view-in-github",
        "colab_type": "text"
      },
      "source": [
        "<a href=\"https://colab.research.google.com/github/rimshamujeeb50/2216154_AIML_Bootcamp_2023/blob/main/Aiml_bootcamp_Day_6.ipynb\" target=\"_parent\"><img src=\"https://colab.research.google.com/assets/colab-badge.svg\" alt=\"Open In Colab\"/></a>"
      ]
    },
    {
      "cell_type": "code",
      "source": [
        "#exceptional handling\n",
        "#name error\n",
        "print(d)"
      ],
      "metadata": {
        "id": "p9SXd6KcQYqO"
      },
      "execution_count": null,
      "outputs": []
    },
    {
      "cell_type": "code",
      "source": [
        "#value error\n",
        "k=\"25 xyz\"\n",
        "print(int(k))"
      ],
      "metadata": {
        "id": "qiFfWvnhkIa9"
      },
      "execution_count": null,
      "outputs": []
    },
    {
      "cell_type": "code",
      "source": [
        "#zero division error\n",
        "d=10/0\n",
        "print(d)"
      ],
      "metadata": {
        "id": "Ly8tG-LnjS4H"
      },
      "execution_count": null,
      "outputs": []
    },
    {
      "cell_type": "code",
      "source": [
        "#key error\n",
        "myd={1:\"apple\",2:\"banana\"}\n",
        "myd[3]"
      ],
      "metadata": {
        "id": "LQrD9Wf-QgZ1"
      },
      "execution_count": null,
      "outputs": []
    },
    {
      "cell_type": "code",
      "source": [
        "#index error\n",
        "li=[1,2,3,4]\n",
        "print(li(5))"
      ],
      "metadata": {
        "id": "gl7VedYJQrPW"
      },
      "execution_count": null,
      "outputs": []
    },
    {
      "cell_type": "code",
      "source": [
        "#runtime\n"
      ],
      "metadata": {
        "id": "6iB02CHAQ8O4"
      },
      "execution_count": null,
      "outputs": []
    },
    {
      "cell_type": "code",
      "source": [
        "#type error\n",
        "c=10\n",
        "d=\"10\"\n",
        "res=c/d"
      ],
      "metadata": {
        "id": "8QJCAGhHjcl0"
      },
      "execution_count": null,
      "outputs": []
    },
    {
      "cell_type": "code",
      "source": [
        "#NameError exceptional handling\n",
        "try:\n",
        "  print(x)\n",
        "except NameError as ne:\n",
        "  print(\"testcase1:\",ne)\n",
        "print(\"executed\")\n"
      ],
      "metadata": {
        "colab": {
          "base_uri": "https://localhost:8080/"
        },
        "id": "U2eulrciRs3M",
        "outputId": "80ca0f50-856f-4fdd-b189-4e5563f1f3d9"
      },
      "execution_count": null,
      "outputs": [
        {
          "output_type": "stream",
          "name": "stdout",
          "text": [
            "testcase1: name 'x' is not defined\n",
            "executed\n"
          ]
        }
      ]
    },
    {
      "cell_type": "code",
      "source": [
        "#IndexError exceptional handling\n",
        "li=[1,2,3,4]\n",
        "try:\n",
        "  print(li[5])\n",
        "except IndexError as ie:\n",
        "  print(\"testcase1:\",ie)\n",
        "print(\"executed\")"
      ],
      "metadata": {
        "colab": {
          "base_uri": "https://localhost:8080/"
        },
        "id": "iIEDz7gTSpXE",
        "outputId": "cbde1b70-00a1-4698-f1a4-a3ca4858c660"
      },
      "execution_count": null,
      "outputs": [
        {
          "output_type": "stream",
          "name": "stdout",
          "text": [
            "testcase1: list index out of range\n",
            "executed\n"
          ]
        }
      ]
    },
    {
      "cell_type": "code",
      "source": [
        "#TypeError exceptional handling\n",
        "a=10\n",
        "b=\"10\"\n",
        " \n",
        "try:\n",
        "  print(a/b)\n",
        "except TypeError as te:\n",
        "  print(\"testcase1:\",te)\n",
        "print(\"executed\")"
      ],
      "metadata": {
        "colab": {
          "base_uri": "https://localhost:8080/"
        },
        "id": "_65eiiXaVpLU",
        "outputId": "0e171200-6dac-48cf-8ea9-868a868558cb"
      },
      "execution_count": null,
      "outputs": [
        {
          "output_type": "stream",
          "name": "stdout",
          "text": [
            "testcase1: unsupported operand type(s) for /: 'int' and 'str'\n",
            "executed\n"
          ]
        }
      ]
    },
    {
      "cell_type": "code",
      "source": [
        "#ZeroDivisionError exceptional handling\n",
        "try:\n",
        "  print(10/0)\n",
        "except ZeroDivisionError as ze:\n",
        "  print(\"testcase1:\",ze)\n",
        "print(\"executed\")"
      ],
      "metadata": {
        "colab": {
          "base_uri": "https://localhost:8080/"
        },
        "id": "gsC87suZWV7o",
        "outputId": "6e767720-5442-453e-abbb-486c6ef3a4a9"
      },
      "execution_count": null,
      "outputs": [
        {
          "output_type": "stream",
          "name": "stdout",
          "text": [
            "testcase1: division by zero\n",
            "executed\n"
          ]
        }
      ]
    },
    {
      "cell_type": "code",
      "source": [
        "#key error exceptional handling\n",
        "myd={1:\"apple\",2:\"banana\"}\n",
        " \n",
        "try:\n",
        "  print(myd[3])\n",
        "except KeyError as ke:\n",
        "  print(\"testcase1:\",ke)\n",
        "print(\"executed\")"
      ],
      "metadata": {
        "colab": {
          "base_uri": "https://localhost:8080/"
        },
        "id": "mRP8g1YpW2H_",
        "outputId": "fa11bf91-c42a-4e4c-d9f8-509a190cddc9"
      },
      "execution_count": null,
      "outputs": [
        {
          "output_type": "stream",
          "name": "stdout",
          "text": [
            "testcase1: 3\n",
            "executed\n"
          ]
        }
      ]
    },
    {
      "cell_type": "code",
      "source": [
        "#value error exceptional handling\n",
        "a=\"25 xyz\"\n",
        " \n",
        "try:\n",
        "  print(int(a))\n",
        "except ValueError as ve:\n",
        "  print(\"testcase1:\",ve)\n",
        "print(\"executed\")\n"
      ],
      "metadata": {
        "colab": {
          "base_uri": "https://localhost:8080/"
        },
        "id": "MeDoHM7bXMWs",
        "outputId": "2cae96f5-91bc-40fd-bc47-880a01f36639"
      },
      "execution_count": null,
      "outputs": [
        {
          "output_type": "stream",
          "name": "stdout",
          "text": [
            "testcase1: invalid literal for int() with base 10: '25 xyz'\n",
            "executed\n"
          ]
        }
      ]
    },
    {
      "cell_type": "code",
      "source": [
        "class INVALIDSTUD_ID(Exception):\n",
        "  def __str__(self):\n",
        "    return \"error raised\"\n",
        "id=input(\"enter id:\")\n",
        "try:\n",
        "  if(id[:4]!='2003'):\n",
        "    raise INVALIDSTUD_ID\n",
        "  else:\n",
        "    print(\"Verified\")\n",
        "except INVALIDSTUD_ID as i:\n",
        "  print(i)\n",
        "print(\"details checked\")"
      ],
      "metadata": {
        "colab": {
          "base_uri": "https://localhost:8080/"
        },
        "id": "IYDIoJLYkTq_",
        "outputId": "77d34b1b-c6c2-42df-d8f1-33b7fef9ade8"
      },
      "execution_count": null,
      "outputs": [
        {
          "output_type": "stream",
          "name": "stdout",
          "text": [
            "enter id:2003A51063\n",
            "Verified\n",
            "details checked\n"
          ]
        }
      ]
    },
    {
      "cell_type": "code",
      "source": [
        "#age exception\n",
        "class INVALIDAGE(Exception):\n",
        "  def __str__(self):\n",
        "    return \"invalid age\"\n",
        "age=int(input(\"enter age:\"))\n",
        "try:\n",
        "  if age<18:\n",
        "    raise INVALIDAGE\n",
        "  else:\n",
        "    print(\"valid age\")\n",
        "except INVALIDAGE as i:\n",
        "  print(i)\n",
        "print(\"done\")"
      ],
      "metadata": {
        "colab": {
          "base_uri": "https://localhost:8080/"
        },
        "id": "3gS5386bYCxw",
        "outputId": "5960aad9-84d1-40c1-9ec5-230bfca9d6dd"
      },
      "execution_count": null,
      "outputs": [
        {
          "output_type": "stream",
          "name": "stdout",
          "text": [
            "enter age:14\n",
            "invalid age\n",
            "done\n"
          ]
        }
      ]
    },
    {
      "cell_type": "code",
      "source": [
        "#modules\n",
        "#os module\n",
        "import os\n",
        "#os.mkdir(\"hi\")\n",
        "#os.chdir(\"hi\")\n",
        "os.getcwd()#current working dir\n",
        "os.listdir()#list of dir\n",
        "os.rmdir(\"/content/hi\")#remove dir \"hi\" through setting path\n"
      ],
      "metadata": {
        "id": "9-26l-qoixKX"
      },
      "execution_count": null,
      "outputs": []
    },
    {
      "cell_type": "code",
      "source": [
        "#math \n",
        "import math as m\n",
        "print(m.pi)\n",
        "print(m.e)\n",
        "print(m.sqrt(4))\n",
        "print(m.factorial(5))\n",
        "print(m.pow(5,5))\n",
        "print(m.floor(-3.7))\n",
        "print(m.tan(5))\n",
        "print(m.log(3))"
      ],
      "metadata": {
        "colab": {
          "base_uri": "https://localhost:8080/"
        },
        "id": "CRU5w2l-Y3F2",
        "outputId": "774cf73c-c8eb-4c9a-d01d-0877c0aaa5f8"
      },
      "execution_count": null,
      "outputs": [
        {
          "output_type": "stream",
          "name": "stdout",
          "text": [
            "3.141592653589793\n",
            "2.718281828459045\n",
            "2.0\n",
            "120\n",
            "3125.0\n",
            "-4\n",
            "-3.380515006246586\n",
            "1.0986122886681098\n"
          ]
        }
      ]
    },
    {
      "cell_type": "code",
      "source": [
        "#sys module\n",
        "import sys\n",
        "print(sys.path)\n",
        "print(sys.version)\n",
        "print(sys.maxsize)\n",
        "print(sys.copyright)"
      ],
      "metadata": {
        "colab": {
          "base_uri": "https://localhost:8080/"
        },
        "id": "dB4dxktkamC7",
        "outputId": "894e90a6-8a04-424d-e8ef-59ed65911770"
      },
      "execution_count": null,
      "outputs": [
        {
          "output_type": "stream",
          "name": "stdout",
          "text": [
            "['/content', '/env/python', '/usr/lib/python38.zip', '/usr/lib/python3.8', '/usr/lib/python3.8/lib-dynload', '', '/usr/local/lib/python3.8/dist-packages', '/usr/lib/python3/dist-packages', '/usr/local/lib/python3.8/dist-packages/IPython/extensions', '/root/.ipython']\n",
            "3.8.10 (default, Nov 14 2022, 12:59:47) \n",
            "[GCC 9.4.0]\n",
            "9223372036854775807\n",
            "Copyright (c) 2001-2021 Python Software Foundation.\n",
            "All Rights Reserved.\n",
            "\n",
            "Copyright (c) 2000 BeOpen.com.\n",
            "All Rights Reserved.\n",
            "\n",
            "Copyright (c) 1995-2001 Corporation for National Research Initiatives.\n",
            "All Rights Reserved.\n",
            "\n",
            "Copyright (c) 1991-1995 Stichting Mathematisch Centrum, Amsterdam.\n",
            "All Rights Reserved.\n"
          ]
        }
      ]
    },
    {
      "cell_type": "code",
      "source": [
        "#statictics module\n",
        "import statistics as s\n",
        "print(s.mean([4,6,7,2,35]))#give the values in the form of list\n",
        "print(s.median([2,3,5,4,6]))\n",
        "print(s.mode([34,6,8,8,8,34,4,54]))"
      ],
      "metadata": {
        "colab": {
          "base_uri": "https://localhost:8080/"
        },
        "id": "uPEMT8uRa6O1",
        "outputId": "03f2a02b-6ca0-4f7f-ce76-ecc6e526de29"
      },
      "execution_count": null,
      "outputs": [
        {
          "output_type": "stream",
          "name": "stdout",
          "text": [
            "10.8\n",
            "4\n",
            "8\n"
          ]
        }
      ]
    },
    {
      "cell_type": "code",
      "source": [
        "#random module\n",
        "import random as r\n",
        "print(r.randrange(1,50))\n",
        "print(r.randint(1,100))\n",
        "print(r.random())"
      ],
      "metadata": {
        "colab": {
          "base_uri": "https://localhost:8080/"
        },
        "id": "WsvHwJqebh7f",
        "outputId": "4407cad5-1fe3-4da5-b5d5-68c9f61651a6"
      },
      "execution_count": null,
      "outputs": [
        {
          "output_type": "stream",
          "name": "stdout",
          "text": [
            "13\n",
            "32\n",
            "0.04555588303861513\n"
          ]
        }
      ]
    },
    {
      "cell_type": "code",
      "source": [
        "import random \n",
        "guess_no=int(input(\"predict a number\"))\n",
        "G=random.randint(1,5)\n",
        "if G==guess_no:\n",
        "  print(\"you won\")\n",
        "else:\n",
        "  print(\"you lose\")"
      ],
      "metadata": {
        "colab": {
          "base_uri": "https://localhost:8080/"
        },
        "id": "J3ffRCZfbx2y",
        "outputId": "c5e3cb90-b0ad-44a3-8db4-ae38bd901fc8"
      },
      "execution_count": null,
      "outputs": [
        {
          "output_type": "stream",
          "name": "stdout",
          "text": [
            "predict a number5\n",
            "you lose\n"
          ]
        }
      ]
    },
    {
      "cell_type": "code",
      "source": [
        " import re\n",
        " def check(email):\n",
        "    if(re.fullmatch(regex, email)):\n",
        "        print(\"Valid Email\")\n",
        " \n",
        "    else:\n",
        "        print(\"Invalid Email\")\n",
        "\n",
        "if __name__ == '__main__':\n",
        " \n",
        "    email=input(\"enter email id:\")\n",
        "    check(email)"
      ],
      "metadata": {
        "colab": {
          "base_uri": "https://localhost:8080/"
        },
        "id": "LjmpLPNwiJp2",
        "outputId": "42b653be-1941-4adf-f87f-3235147fdfe5"
      },
      "execution_count": null,
      "outputs": [
        {
          "output_type": "stream",
          "name": "stdout",
          "text": [
            "enter email id:pvggmail.com\n",
            "Invalid Email\n"
          ]
        }
      ]
    },
    {
      "cell_type": "code",
      "source": [
        "#pickling-we do it for serialization and deserialization\n",
        "#conversion of bytes\n",
        "import pickle\n",
        "my_l1=[]"
      ],
      "metadata": {
        "id": "9RHYeOg4ccD7"
      },
      "execution_count": null,
      "outputs": []
    }
  ]
}